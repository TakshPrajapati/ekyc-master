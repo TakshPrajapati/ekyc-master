{
  "nbformat": 4,
  "nbformat_minor": 0,
  "metadata": {
    "colab": {
      "provenance": []
    },
    "kernelspec": {
      "name": "python3",
      "display_name": "Python 3"
    },
    "language_info": {
      "name": "python"
    }
  },
  "cells": [
    {
      "cell_type": "code",
      "source": [
        "pip install speechrecognition"
      ],
      "metadata": {
        "colab": {
          "base_uri": "https://localhost:8080/"
        },
        "id": "7LaNk7zjaCCw",
        "outputId": "dc3083e0-5a0f-4f8b-bfd9-32f5fd6632d9"
      },
      "execution_count": null,
      "outputs": [
        {
          "output_type": "stream",
          "name": "stdout",
          "text": [
            "Collecting speechrecognition\n",
            "  Downloading SpeechRecognition-3.10.1-py2.py3-none-any.whl (32.8 MB)\n",
            "\u001b[2K     \u001b[90m━━━━━━━━━━━━━━━━━━━━━━━━━━━━━━━━━━━━━━━━\u001b[0m \u001b[32m32.8/32.8 MB\u001b[0m \u001b[31m29.8 MB/s\u001b[0m eta \u001b[36m0:00:00\u001b[0m\n",
            "\u001b[?25hRequirement already satisfied: requests>=2.26.0 in /usr/local/lib/python3.10/dist-packages (from speechrecognition) (2.31.0)\n",
            "Requirement already satisfied: typing-extensions in /usr/local/lib/python3.10/dist-packages (from speechrecognition) (4.10.0)\n",
            "Requirement already satisfied: charset-normalizer<4,>=2 in /usr/local/lib/python3.10/dist-packages (from requests>=2.26.0->speechrecognition) (3.3.2)\n",
            "Requirement already satisfied: idna<4,>=2.5 in /usr/local/lib/python3.10/dist-packages (from requests>=2.26.0->speechrecognition) (3.6)\n",
            "Requirement already satisfied: urllib3<3,>=1.21.1 in /usr/local/lib/python3.10/dist-packages (from requests>=2.26.0->speechrecognition) (2.0.7)\n",
            "Requirement already satisfied: certifi>=2017.4.17 in /usr/local/lib/python3.10/dist-packages (from requests>=2.26.0->speechrecognition) (2024.2.2)\n",
            "Installing collected packages: speechrecognition\n",
            "Successfully installed speechrecognition-3.10.1\n"
          ]
        }
      ]
    },
    {
      "cell_type": "code",
      "source": [
        "pip install moviepy"
      ],
      "metadata": {
        "colab": {
          "base_uri": "https://localhost:8080/"
        },
        "id": "e5ryVKQOaQbE",
        "outputId": "81a8bbba-f861-4e66-e5de-239f99e2731d"
      },
      "execution_count": null,
      "outputs": [
        {
          "output_type": "stream",
          "name": "stdout",
          "text": [
            "Requirement already satisfied: moviepy in /usr/local/lib/python3.10/dist-packages (1.0.3)\n",
            "Requirement already satisfied: decorator<5.0,>=4.0.2 in /usr/local/lib/python3.10/dist-packages (from moviepy) (4.4.2)\n",
            "Requirement already satisfied: tqdm<5.0,>=4.11.2 in /usr/local/lib/python3.10/dist-packages (from moviepy) (4.66.2)\n",
            "Requirement already satisfied: requests<3.0,>=2.8.1 in /usr/local/lib/python3.10/dist-packages (from moviepy) (2.31.0)\n",
            "Requirement already satisfied: proglog<=1.0.0 in /usr/local/lib/python3.10/dist-packages (from moviepy) (0.1.10)\n",
            "Requirement already satisfied: numpy>=1.17.3 in /usr/local/lib/python3.10/dist-packages (from moviepy) (1.25.2)\n",
            "Requirement already satisfied: imageio<3.0,>=2.5 in /usr/local/lib/python3.10/dist-packages (from moviepy) (2.31.6)\n",
            "Requirement already satisfied: imageio-ffmpeg>=0.2.0 in /usr/local/lib/python3.10/dist-packages (from moviepy) (0.4.9)\n",
            "Requirement already satisfied: pillow<10.1.0,>=8.3.2 in /usr/local/lib/python3.10/dist-packages (from imageio<3.0,>=2.5->moviepy) (9.4.0)\n",
            "Requirement already satisfied: setuptools in /usr/local/lib/python3.10/dist-packages (from imageio-ffmpeg>=0.2.0->moviepy) (67.7.2)\n",
            "Requirement already satisfied: charset-normalizer<4,>=2 in /usr/local/lib/python3.10/dist-packages (from requests<3.0,>=2.8.1->moviepy) (3.3.2)\n",
            "Requirement already satisfied: idna<4,>=2.5 in /usr/local/lib/python3.10/dist-packages (from requests<3.0,>=2.8.1->moviepy) (3.6)\n",
            "Requirement already satisfied: urllib3<3,>=1.21.1 in /usr/local/lib/python3.10/dist-packages (from requests<3.0,>=2.8.1->moviepy) (2.0.7)\n",
            "Requirement already satisfied: certifi>=2017.4.17 in /usr/local/lib/python3.10/dist-packages (from requests<3.0,>=2.8.1->moviepy) (2024.2.2)\n"
          ]
        }
      ]
    },
    {
      "cell_type": "code",
      "source": [
        "import speech_recognition as sr\n",
        "from moviepy.editor import VideoFileClip\n",
        "import os\n",
        "import random\n",
        "\n",
        "def transcribe_video(video_path):\n",
        "\n",
        "  recognizer = sr.Recognizer()\n",
        "  clip = VideoFileClip(video_path)\n",
        "  audio = clip.audio.write_audiofile(\"temp.wav\")\n",
        "  audio = \"temp.wav\"\n",
        "  with sr.AudioFile(audio) as source:\n",
        "    recorded_audio = recognizer.record(source)\n",
        "\n",
        "  transcript = \"\"\n",
        "  try:\n",
        "    transcript = recognizer.recognize_google(recorded_audio)\n",
        "  except sr.UnknownValueError:\n",
        "    print(\"Could not understand audio\")\n",
        "  except sr.RequestError as e:\n",
        "    print(f\"Could not request results from Google Speech Recognition service; {e}\")\n",
        "\n",
        "  os.remove(audio)\n",
        "\n",
        "  return transcript\n",
        "\n",
        "# Example usage\n",
        "video_file = \"/content/Top Headlines Of The Day_ September 20, 2023.mp4\"\n",
        "text = transcribe_video(video_file)\n",
        "\n",
        "print(f\"Transcript: {text}\")\n",
        "def generate_and_check_phrase(transcript):\n",
        "    words = transcript.split()\n",
        "    if words:\n",
        "        num_words = random.randint(2, 5)\n",
        "        phrase = \" \".join(random.sample(words, num_words))\n",
        "        return phrase in transcript\n",
        "    else:\n",
        "        return False\n",
        "\n",
        "# Example Usage\n",
        "if text:\n",
        "    phrase_found = generate_and_check_phrase(text)\n",
        "    print(f\"Phrase found: {phrase_found}\")\n",
        "else:\n",
        "    print(\"Transcription failed or no transcript was generated.\")"
      ],
      "metadata": {
        "colab": {
          "base_uri": "https://localhost:8080/"
        },
        "id": "lFwDEhpBcLeT",
        "outputId": "03da3fa9-f25b-4832-8dbe-0d5270cc675e"
      },
      "execution_count": null,
      "outputs": [
        {
          "output_type": "stream",
          "name": "stdout",
          "text": [
            "MoviePy - Writing audio in temp.wav\n"
          ]
        },
        {
          "output_type": "stream",
          "name": "stderr",
          "text": []
        },
        {
          "output_type": "stream",
          "name": "stdout",
          "text": [
            "MoviePy - Done.\n",
            "Transcript: historic day one at India's new Parliament the women's reservation bill has been tabled not from 82 the women MPS will increase to 181 once the bill is implemented but the women's quarter is likely to be implemented in 2019\n",
            "Phrase found: False\n"
          ]
        }
      ]
    }
  ]
}